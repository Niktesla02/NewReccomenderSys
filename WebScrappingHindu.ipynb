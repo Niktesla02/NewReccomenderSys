{
 "cells": [
  {
   "cell_type": "code",
   "execution_count": 1,
   "metadata": {
    "colab": {},
    "colab_type": "code",
    "id": "Tr2vMvkkf85A"
   },
   "outputs": [],
   "source": [
    "#importing the required packages\n",
    "import requests\n",
    "import time\n",
    "from bs4 import BeautifulSoup as bs\n",
    "import pandas as pd\n",
    "import numpy as np"
   ]
  },
  {
   "cell_type": "code",
   "execution_count": 2,
   "metadata": {
    "colab": {},
    "colab_type": "code",
    "id": "lo099cfwgxCr"
   },
   "outputs": [],
   "source": [
    "def retrieving_information_for_the_day(year,month,day):\n",
    "  # iterate the dates to get news from these dates\n",
    "  web_url= \"https://www.thehindu.com/archive/web/year/month/day/\"\n",
    "  #getting html source code from the url\n",
    "  raw_data=requests.get(web_url,'lxml')\n",
    "  #We create a Beautiful soup object and use it to find the required information from the url\n",
    "  soup=bs(raw_data.content,'html5lib')\n",
    "  information=soup.findAll('ul',class_='archive-list')\n",
    "  return information"
   ]
  },
  {
   "cell_type": "code",
   "execution_count": 3,
   "metadata": {
    "colab": {},
    "colab_type": "code",
    "id": "8nmdGquChw_F"
   },
   "outputs": [],
   "source": [
    "#the headlines from the day\n",
    "def headlines(information):\n",
    "  headlines=[]\n",
    "  for i in range(len(information)):\n",
    "      for j in range(len(information[i].findAll('a'))):\n",
    "          headlines.append(information[i].findAll('a')[j])\n",
    "  return headlines"
   ]
  },
  {
   "cell_type": "code",
   "execution_count": 4,
   "metadata": {
    "colab": {},
    "colab_type": "code",
    "id": "tiidCCaAh7Na"
   },
   "outputs": [],
   "source": [
    "#this is a function to scrap the title of the news and the link to the main content from the information\n",
    "def links_and_headings(headlines):\n",
    "    links=[]\n",
    "    news_titles=[]\n",
    "    for i in range(len(headlines)):\n",
    "        news_titles.append(headlines[i].get_text())\n",
    "        links.append(headlines[i]['href'])\n",
    "    return links,news_titles"
   ]
  },
  {
   "cell_type": "code",
   "execution_count": 5,
   "metadata": {
    "colab": {},
    "colab_type": "code",
    "id": "sQOnQAirjtCY"
   },
   "outputs": [],
   "source": [
    "#this function scraps the authors of the articles and removes the articles with no authors.\n",
    "def authors_and_reprocessing_data(links):\n",
    "    authors=[]\n",
    "    noauthors=[]\n",
    "    c=0\n",
    "    for i in range(len(links)):\n",
    "        content_data=requests.get(links[i],'lxml')\n",
    "        soup1=bs(content_data.content,'html5lib')\n",
    "        author=soup1.find('a',{\"class\":[\"auth-nm lnk\",\"auth-nm no-lnk\"]})\n",
    "        if author!=None:\n",
    "            authors.append(author.get_text().strip('\\n'))\n",
    "        if author==None:\n",
    "            noauthors.append(i)\n",
    "            authors.append(0)\n",
    "    return authors,noauthors"
   ]
  },
  {
   "cell_type": "code",
   "execution_count": 6,
   "metadata": {
    "colab": {},
    "colab_type": "code",
    "id": "qoCPvV8miH8B"
   },
   "outputs": [],
   "source": [
    "#this function goes to the links of the headines and gets the full content\n",
    "def retrieving_news_content(links,headlines):\n",
    "    news_contents=[]\n",
    "    for i in range(len(links)):\n",
    "        content_data=requests.get(links[i],'lxml')\n",
    "        soup1=bs(content_data.content,'html5lib')\n",
    "        raw_content=soup1.findAll('p',class_=\"\")\n",
    "        paragraph=''\n",
    "        for j in range(len(raw_content)):\n",
    "            if len(raw_content[j].get_text())>10:\n",
    "                paragraph+=raw_content[j].get_text()\n",
    "        news_contents.append(paragraph.strip('\\n').split(\"Start your 14 days trial now.\")[0])\n",
    "    return news_contents"
   ]
  },
  {
   "cell_type": "code",
   "execution_count": 7,
   "metadata": {},
   "outputs": [],
   "source": [
    "def date_and_time(links):\n",
    "    date=[]\n",
    "    time=[]\n",
    "    for i in range(len(links)):\n",
    "        content_data=requests.get(links[i],'lxml')\n",
    "        soup1=bs(content_data.content,'html5lib')\n",
    "        when=soup1.find('meta',{\"name\":\"publish-date\"})\n",
    "        date_and_time=when['content'].split('T')\n",
    "        date.append(date_and_time[0])\n",
    "        time.append(date_and_time[1].replace(\"+05:30\",\" IST\"))\n",
    "    return date,time"
   ]
  },
  {
   "cell_type": "code",
   "execution_count": 8,
   "metadata": {
    "colab": {},
    "colab_type": "code",
    "id": "UDBEIJqC36Gr"
   },
   "outputs": [],
   "source": [
    "def news_articles():\n",
    "  for year in range(2010,2010):\n",
    "    for month in range(10,10):\n",
    "      for day in range(1,1):\n",
    "        information=retrieving_information_for_the_day(year,month,day)\n",
    "        headlines=headlines(information)\n",
    "        links,news_titles=links_and_headings(headlines)\n",
    "        authors,headlines=authors_and_reprocessing_data(links)\n",
    "        news_contents=retrieving_news_content(links,headlines)"
   ]
  },
  {
   "cell_type": "code",
   "execution_count": null,
   "metadata": {},
   "outputs": [],
   "source": []
  }
 ],
 "metadata": {
  "colab": {
   "authorship_tag": "ABX9TyPSPmBPA0pUAhARu0tKqvvF",
   "collapsed_sections": [],
   "name": "WebScrappingHindu.ipynb",
   "provenance": []
  },
  "kernelspec": {
   "display_name": "Python 3",
   "language": "python",
   "name": "python3"
  },
  "language_info": {
   "codemirror_mode": {
    "name": "ipython",
    "version": 3
   },
   "file_extension": ".py",
   "mimetype": "text/x-python",
   "name": "python",
   "nbconvert_exporter": "python",
   "pygments_lexer": "ipython3",
   "version": "3.7.4"
  }
 },
 "nbformat": 4,
 "nbformat_minor": 1
}
